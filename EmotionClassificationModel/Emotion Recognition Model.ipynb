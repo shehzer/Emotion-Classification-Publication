{
 "cells": [
  {
   "cell_type": "code",
   "execution_count": 1,
   "metadata": {},
   "outputs": [],
   "source": [
    "import cv2\n",
    "from keras.models import Sequential\n",
    "from keras.layers import Conv2D, MaxPooling2D, Dense, Dropout, Flatten\n",
    "from keras.optimizers import Adam\n",
    "from keras.preprocessing.image import ImageDataGenerator\n",
    "import matplotlib.pyplot as plt\n",
    "\n",
    "base_path = \"C:/Users/HHeha/OneDrive/Desktop/AI2/\";"
   ]
  },
  {
   "cell_type": "code",
   "execution_count": 2,
   "metadata": {},
   "outputs": [
    {
     "name": "stdout",
     "output_type": "stream",
     "text": [
      "Found 28709 images belonging to 7 classes.\n",
      "Found 7178 images belonging to 7 classes.\n"
     ]
    }
   ],
   "source": [
    "train_datagen = ImageDataGenerator(rescale=1./255)\n",
    "test_datagen = ImageDataGenerator(rescale=1./255)\n",
    "\n",
    "train_generator = train_datagen.flow_from_directory(base_path + 'train', target_size=(48, 48), batch_size=64, color_mode=\"grayscale\", class_mode='categorical')\n",
    "test_generator = test_datagen.flow_from_directory(base_path + 'test', target_size=(48, 48), batch_size=64, color_mode=\"grayscale\", class_mode='categorical')"
   ]
  },
  {
   "cell_type": "code",
   "execution_count": 3,
   "metadata": {},
   "outputs": [],
   "source": [
    "model = Sequential()\n",
    "\n",
    "model.add(Conv2D(32, kernel_size=(3, 3), activation='relu', input_shape=(48, 48, 1)))\n",
    "model.add(Conv2D(64, kernel_size=(3, 3), activation='relu'))\n",
    "model.add(MaxPooling2D(pool_size=(2, 2)))\n",
    "model.add(Dropout(0.25))\n",
    "\n",
    "model.add(Conv2D(64, kernel_size=(3, 3), activation='relu'))\n",
    "model.add(MaxPooling2D(pool_size=(2, 2)))\n",
    "model.add(Conv2D(128, kernel_size=(3, 3), activation='relu'))\n",
    "model.add(MaxPooling2D(pool_size=(2, 2)))\n",
    "model.add(Dropout(0.25))\n",
    "\n",
    "model.add(Flatten())\n",
    "model.add(Dense(256, activation='relu'))\n",
    "model.add(Dropout(0.5))\n",
    "model.add(Dense(7, activation='softmax'))\n",
    "\n",
    "model.compile(loss='categorical_crossentropy', optimizer=Adam(), metrics=['accuracy'])"
   ]
  },
  {
   "cell_type": "code",
   "execution_count": 4,
   "metadata": {},
   "outputs": [
    {
     "name": "stdout",
     "output_type": "stream",
     "text": [
      "Epoch 1/30\n",
      "448/448 [==============================] - 79s 175ms/step - loss: 1.7332 - accuracy: 0.2943\n",
      "Epoch 2/30\n",
      "448/448 [==============================] - 81s 180ms/step - loss: 1.4655 - accuracy: 0.4340\n",
      "Epoch 3/30\n",
      "448/448 [==============================] - 80s 179ms/step - loss: 1.3198 - accuracy: 0.4983\n",
      "Epoch 4/30\n",
      "448/448 [==============================] - 80s 179ms/step - loss: 1.2464 - accuracy: 0.5277\n",
      "Epoch 5/30\n",
      "448/448 [==============================] - 80s 180ms/step - loss: 1.1905 - accuracy: 0.5491\n",
      "Epoch 6/30\n",
      "448/448 [==============================] - 81s 180ms/step - loss: 1.1414 - accuracy: 0.5700\n",
      "Epoch 7/30\n",
      "448/448 [==============================] - 84s 188ms/step - loss: 1.1069 - accuracy: 0.5808\n",
      "Epoch 8/30\n",
      "448/448 [==============================] - 81s 181ms/step - loss: 1.0725 - accuracy: 0.5954\n",
      "Epoch 9/30\n",
      "448/448 [==============================] - 81s 180ms/step - loss: 1.0375 - accuracy: 0.6100\n",
      "Epoch 10/30\n",
      "448/448 [==============================] - 81s 181ms/step - loss: 1.0089 - accuracy: 0.6192\n",
      "Epoch 11/30\n",
      "448/448 [==============================] - 81s 180ms/step - loss: 0.9796 - accuracy: 0.6324\n",
      "Epoch 12/30\n",
      "448/448 [==============================] - 81s 181ms/step - loss: 0.9580 - accuracy: 0.6381\n",
      "Epoch 13/30\n",
      "448/448 [==============================] - 82s 182ms/step - loss: 0.9371 - accuracy: 0.6479\n",
      "Epoch 14/30\n",
      "448/448 [==============================] - 81s 182ms/step - loss: 0.9144 - accuracy: 0.6567\n",
      "Epoch 15/30\n",
      "448/448 [==============================] - 82s 182ms/step - loss: 0.8862 - accuracy: 0.6670\n",
      "Epoch 16/30\n",
      "448/448 [==============================] - 82s 183ms/step - loss: 0.8672 - accuracy: 0.6724\n",
      "Epoch 17/30\n",
      "448/448 [==============================] - 82s 183ms/step - loss: 0.8557 - accuracy: 0.6808\n",
      "Epoch 18/30\n",
      "448/448 [==============================] - 85s 190ms/step - loss: 0.8321 - accuracy: 0.6848\n",
      "Epoch 19/30\n",
      "448/448 [==============================] - 82s 182ms/step - loss: 0.8148 - accuracy: 0.6920\n",
      "Epoch 20/30\n",
      "448/448 [==============================] - 82s 183ms/step - loss: 0.8067 - accuracy: 0.6973\n",
      "Epoch 21/30\n",
      "448/448 [==============================] - 81s 182ms/step - loss: 0.7840 - accuracy: 0.7031\n",
      "Epoch 22/30\n",
      "448/448 [==============================] - 81s 181ms/step - loss: 0.7769 - accuracy: 0.7063\n",
      "Epoch 23/30\n",
      "448/448 [==============================] - 81s 182ms/step - loss: 0.7612 - accuracy: 0.7136\n",
      "Epoch 24/30\n",
      "448/448 [==============================] - 81s 182ms/step - loss: 0.7440 - accuracy: 0.7219\n",
      "Epoch 25/30\n",
      "448/448 [==============================] - 81s 182ms/step - loss: 0.7251 - accuracy: 0.7276\n",
      "Epoch 26/30\n",
      "448/448 [==============================] - 82s 183ms/step - loss: 0.7181 - accuracy: 0.7294\n",
      "Epoch 27/30\n",
      "448/448 [==============================] - 82s 182ms/step - loss: 0.7056 - accuracy: 0.7348\n",
      "Epoch 28/30\n",
      "448/448 [==============================] - 82s 182ms/step - loss: 0.6907 - accuracy: 0.7381\n",
      "Epoch 29/30\n",
      "448/448 [==============================] - 85s 191ms/step - loss: 0.6796 - accuracy: 0.7442\n",
      "Epoch 30/30\n",
      "448/448 [==============================] - 82s 184ms/step - loss: 0.6783 - accuracy: 0.7439\n"
     ]
    }
   ],
   "source": [
    "history = model.fit(train_generator, steps_per_epoch= 28709 // 64, epochs=30)"
   ]
  },
  {
   "cell_type": "code",
   "execution_count": 5,
   "metadata": {},
   "outputs": [
    {
     "name": "stdout",
     "output_type": "stream",
     "text": [
      "112/112 [==============================] - 5s 43ms/step - loss: 1.1492 - accuracy: 0.6162\n"
     ]
    },
    {
     "data": {
      "text/plain": [
       "[1.1492149829864502, 0.6162109375]"
      ]
     },
     "execution_count": 5,
     "metadata": {},
     "output_type": "execute_result"
    }
   ],
   "source": [
    "model.evaluate(test_generator, steps= 7178 // 64)"
   ]
  },
  {
   "cell_type": "code",
   "execution_count": 6,
   "metadata": {},
   "outputs": [
    {
     "data": {
      "image/png": "[encoded data removed]",
      "text/plain": [
       "<Figure size 1296x432 with 2 Axes>"
      ]
     },
     "metadata": {
      "needs_background": "light"
     },
     "output_type": "display_data"
    }
   ],
   "source": [
    "fig, axes = plt.subplots(1,2, figsize=(18, 6))\n",
    "axes[0].plot(history.history['accuracy'])\n",
    "axes[0].set_title('Model accuracy')\n",
    "axes[0].set_ylabel('Accuracy')\n",
    "axes[0].set_xlabel('Epoch')\n",
    "axes[0].legend(['Train'], loc='upper left')\n",
    "\n",
    "axes[1].plot(history.history['loss'])\n",
    "axes[1].set_title('Model loss')\n",
    "axes[1].set_ylabel('Loss')\n",
    "axes[1].set_xlabel('Epoch')\n",
    "axes[1].legend(['Train'], loc='upper left')\n",
    "plt.show()"
   ]
  },
  {
   "cell_type": "code",
   "execution_count": 7,
   "metadata": {},
   "outputs": [],
   "source": [
    "model_json = model.to_json()\n",
    "with open(\"model.json\", \"w\") as json_file:\n",
    "    json_file.write(model_json)\n",
    "\n",
    "# save trained model weight in .h5 file\n",
    "model.save_weights('model.h5')"
   ]
  },
  {
   "cell_type": "code",
   "execution_count": null,
   "metadata": {},
   "outputs": [],
   "source": []
  }
 ],
 "metadata": {
  "kernelspec": {
   "display_name": "Python 3",
   "language": "python",
   "name": "python3"
  },
  "language_info": {
   "codemirror_mode": {
    "name": "ipython",
    "version": 3
   },
   "file_extension": ".py",
   "mimetype": "text/x-python",
   "name": "python",
   "nbconvert_exporter": "python",
   "pygments_lexer": "ipython3",
   "version": "3.8.3"
  }
 },
 "nbformat": 4,
 "nbformat_minor": 4
}
